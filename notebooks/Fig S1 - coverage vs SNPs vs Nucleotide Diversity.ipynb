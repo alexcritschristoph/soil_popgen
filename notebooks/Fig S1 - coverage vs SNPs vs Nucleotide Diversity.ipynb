{
 "cells": [
  {
   "cell_type": "code",
   "execution_count": 32,
   "metadata": {},
   "outputs": [],
   "source": [
    "library(ggplot2)\n",
    "library(data.table)\n",
    "library(cowplot)\n",
    "\n",
    "setwd('/data6/Angelo/alexcc/AngeloStrainsPaper/manuscript_materials/soil_popgen/notebooks')"
   ]
  },
  {
   "cell_type": "code",
   "execution_count": 21,
   "metadata": {
    "collapsed": true
   },
   "outputs": [],
   "source": [
    "sizes = read.csv('../data_tables/genome_sizes.txt', header=FALSE, sep=\"\\t\")"
   ]
  },
  {
   "cell_type": "code",
   "execution_count": 39,
   "metadata": {
    "scrolled": false
   },
   "outputs": [],
   "source": [
    "## get nucleotide diversities\n",
    "results <- data.frame('count' = numeric(),'pi'=numeric(),'coverage'=numeric(),\n",
    "                      stringsAsFactors = FALSE)\n",
    "for (file in Sys.glob('../data/sample_snps/*.tsv')){\n",
    "    genome = gsub(gsub(gsub(file, pattern = '.aa-SNVs.tsv', replacement = ''), \n",
    "     pattern='../data/sample_snps/', replacement = ''), pattern=':.*', replacement='')\n",
    "    size = sizes[which(sizes$V1 == genome),'V2']\n",
    "    d = fread(file)\n",
    "    count = nrow(d) / size * 1000000\n",
    "    d2 = fread(gsub(gsub(file, pattern = '.aa-SNVs.tsv', replacement = '.genes.tsv'), \n",
    "               pattern='sample_snps/', replacement='nucleotide_diversity/'))\n",
    "    avg = mean(d2$pi)\n",
    "    coverage = mean(d2$coverage)\n",
    "    results[nrow(results) + 1,] = list(count, avg, coverage)\n",
    "    \n",
    "}"
   ]
  },
  {
   "cell_type": "code",
   "execution_count": 40,
   "metadata": {
    "collapsed": true
   },
   "outputs": [],
   "source": [
    "d = results\n",
    "\n",
    "p1 <- qplot(x = d$count, y= d$coverage, geom = 'point') + theme_minimal() + xlab(\"SNPs / Mbp\") + ylab(\"Coverage\")\n",
    "p2 <- qplot(x = d$pi, y= d$coverage, geom = 'point') + theme_minimal() + xlab(\"Nucleotide Diversity\") + ylab(\"Coverage\")\n",
    "\n",
    "p3 <- qplot(x = d$count, y= d$pi, geom = 'point') + theme_minimal() + xlab(\"SNPs\") + ylab(\"Nucleotide Diversity\")\n",
    "p4 <- qplot(x = d$count, y= d$pi*d$coverage, geom = 'point') + theme_minimal() + xlab(\"SNPs / Mbp\") + ylab(\"Nucleotide Diversity*coverage\")\n"
   ]
  },
  {
   "cell_type": "code",
   "execution_count": 42,
   "metadata": {},
   "outputs": [
    {
     "data": {
      "text/html": [
       "<strong>png:</strong> 2"
      ],
      "text/latex": [
       "\\textbf{png:} 2"
      ],
      "text/markdown": [
       "**png:** 2"
      ],
      "text/plain": [
       "png \n",
       "  2 "
      ]
     },
     "metadata": {},
     "output_type": "display_data"
    }
   ],
   "source": [
    "pdf(file = 'statistics.pdf')\n",
    "plot_grid(p1,p2,p3,p4)\n",
    "dev.off()"
   ]
  },
  {
   "cell_type": "code",
   "execution_count": null,
   "metadata": {
    "collapsed": true
   },
   "outputs": [],
   "source": []
  }
 ],
 "metadata": {
  "kernelspec": {
   "display_name": "R",
   "language": "R",
   "name": "ir"
  },
  "language_info": {
   "codemirror_mode": "r",
   "file_extension": ".r",
   "mimetype": "text/x-r-source",
   "name": "R",
   "pygments_lexer": "r",
   "version": "3.6.0"
  }
 },
 "nbformat": 4,
 "nbformat_minor": 2
}
