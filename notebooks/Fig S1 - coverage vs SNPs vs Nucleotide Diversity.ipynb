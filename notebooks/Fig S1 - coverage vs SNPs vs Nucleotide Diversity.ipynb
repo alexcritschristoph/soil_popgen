{
 "cells": [
  {
   "cell_type": "code",
   "execution_count": 2,
   "metadata": {},
   "outputs": [
    {
     "name": "stderr",
     "output_type": "stream",
     "text": [
      "Registered S3 method overwritten by 'dplyr':\n",
      "  method               from  \n",
      "  as.data.frame.tbl_df tibble\n",
      "\n",
      "********************************************************\n",
      "Note: As of version 1.0.0, cowplot does not change the\n",
      "  default ggplot2 theme anymore. To recover the previous\n",
      "  behavior, execute:\n",
      "  theme_set(theme_cowplot())\n",
      "********************************************************\n",
      "\n"
     ]
    }
   ],
   "source": [
    "library(ggplot2)\n",
    "library(data.table)\n",
    "library(cowplot)\n",
    "\n",
    "setwd('/data6/Angelo/alexcc/AngeloStrainsPaper/manuscript_materials/soil_popgen/notebooks')"
   ]
  },
  {
   "cell_type": "code",
   "execution_count": 21,
   "metadata": {
    "collapsed": true
   },
   "outputs": [],
   "source": [
    "sizes = read.csv('../data_tables/genome_sizes.txt', header=FALSE, sep=\"\\t\")"
   ]
  },
  {
   "cell_type": "code",
   "execution_count": 39,
   "metadata": {
    "collapsed": true,
    "scrolled": false
   },
   "outputs": [],
   "source": [
    "## get nucleotide diversities\n",
    "results <- data.frame('count' = numeric(),'pi'=numeric(),'coverage'=numeric(),\n",
    "                      stringsAsFactors = FALSE)\n",
    "for (file in Sys.glob('../data/sample_snps/*.tsv')){\n",
    "    genome = gsub(gsub(gsub(file, pattern = '.aa-SNVs.tsv', replacement = ''), \n",
    "     pattern='../data/sample_snps/', replacement = ''), pattern=':.*', replacement='')\n",
    "    size = sizes[which(sizes$V1 == genome),'V2']\n",
    "    d = fread(file)\n",
    "    count = nrow(d) / size * 1000000\n",
    "    d2 = fread(gsub(gsub(file, pattern = '.aa-SNVs.tsv', replacement = '.genes.tsv'), \n",
    "               pattern='sample_snps/', replacement='nucleotide_diversity/'))\n",
    "    avg = mean(d2$pi)\n",
    "    coverage = mean(d2$coverage)\n",
    "    results[nrow(results) + 1,] = list(count, avg, coverage)\n",
    "    \n",
    "}"
   ]
  },
  {
   "cell_type": "code",
   "execution_count": 40,
   "metadata": {
    "collapsed": true
   },
   "outputs": [],
   "source": [
    "d = results\n",
    "\n",
    "p1 <- qplot(x = d$count, y= d$coverage, geom = 'point') + theme_minimal() + xlab(\"SNPs / Mbp\") + ylab(\"Coverage\")\n",
    "p2 <- qplot(x = d$pi, y= d$coverage, geom = 'point') + theme_minimal() + xlab(\"Nucleotide Diversity\") + ylab(\"Coverage\")\n",
    "\n",
    "p3 <- qplot(x = d$count, y= d$pi, geom = 'point') + theme_minimal() + xlab(\"SNPs\") + ylab(\"Nucleotide Diversity\")\n",
    "p4 <- qplot(x = d$count, y= d$pi*d$coverage, geom = 'point') + theme_minimal() + xlab(\"SNPs / Mbp\") + ylab(\"Nucleotide Diversity*coverage\")\n"
   ]
  },
  {
   "cell_type": "code",
   "execution_count": 42,
   "metadata": {},
   "outputs": [
    {
     "data": {
      "text/html": [
       "<strong>png:</strong> 2"
      ],
      "text/latex": [
       "\\textbf{png:} 2"
      ],
      "text/markdown": [
       "**png:** 2"
      ],
      "text/plain": [
       "png \n",
       "  2 "
      ]
     },
     "metadata": {},
     "output_type": "display_data"
    }
   ],
   "source": [
    "pdf(file = 'statistics.pdf')\n",
    "plot_grid(p1,p2,p3,p4)\n",
    "dev.off()"
   ]
  },
  {
   "cell_type": "code",
   "execution_count": 3,
   "metadata": {},
   "outputs": [
    {
     "name": "stdout",
     "output_type": "stream",
     "text": [
      "[1] \"step 1\"\n"
     ]
    }
   ],
   "source": [
    "## Read in nucleotide diversity data for 0.96\n",
    "files = Sys.glob(\"../data/cutoff_comparison/0.96/*.tsv\")\n",
    "\n",
    "i = 0;\n",
    "for (f in files){\n",
    "    d2 = read.csv(f, sep='\\t')\n",
    "#     print(f)\n",
    "    if (i > 0){\n",
    "        d96 = rbind(d96,d2)\n",
    "    }\n",
    "    else {\n",
    "        d96 = d2\n",
    "        print(\"step 1\")\n",
    "    }\n",
    "    i = i + 1\n",
    "}"
   ]
  },
  {
   "cell_type": "code",
   "execution_count": 4,
   "metadata": {},
   "outputs": [
    {
     "name": "stdout",
     "output_type": "stream",
     "text": [
      "[1] \"step 1\"\n"
     ]
    }
   ],
   "source": [
    "## Read in nucleotide diversity data for 0.98\n",
    "files = Sys.glob(\"../data/cutoff_comparison/0.98/*.tsv\")\n",
    "\n",
    "i = 0;\n",
    "for (f in files){\n",
    "    d2 = read.csv(f, sep='\\t')\n",
    "#     print(f)\n",
    "    if (i > 0){\n",
    "        d98 = rbind(d98,d2)\n",
    "    }\n",
    "    else {\n",
    "        d98 = d2\n",
    "        print(\"step 1\")\n",
    "    }\n",
    "    i = i + 1\n",
    "}"
   ]
  },
  {
   "cell_type": "code",
   "execution_count": 5,
   "metadata": {
    "collapsed": true
   },
   "outputs": [],
   "source": [
    "d98 = d98[,c('gene', 'pi')]\n",
    "d96 = d96[,c('gene', 'pi')]"
   ]
  },
  {
   "cell_type": "code",
   "execution_count": 6,
   "metadata": {
    "collapsed": true
   },
   "outputs": [],
   "source": [
    "combined_d = merge(d98, d96, by='gene')"
   ]
  },
  {
   "cell_type": "code",
   "execution_count": 52,
   "metadata": {},
   "outputs": [
    {
     "data": {
      "text/plain": [
       "\n",
       "Call:\n",
       "lm(formula = log(pi.y + 1e-05, base = 10) ~ log(pi.x + 1e-05, \n",
       "    base = 10), data = combined_d)\n",
       "\n",
       "Residuals:\n",
       "     Min       1Q   Median       3Q      Max \n",
       "-0.60799 -0.05920 -0.02612  0.03253  2.89157 \n",
       "\n",
       "Coefficients:\n",
       "                              Estimate Std. Error t value Pr(>|t|)    \n",
       "(Intercept)                  0.1397748  0.0022294    62.7   <2e-16 ***\n",
       "log(pi.x + 1e-05, base = 10) 1.0237894  0.0009587  1067.9   <2e-16 ***\n",
       "---\n",
       "Signif. codes:  0 ‘***’ 0.001 ‘**’ 0.01 ‘*’ 0.05 ‘.’ 0.1 ‘ ’ 1\n",
       "\n",
       "Residual standard error: 0.08711 on 64210 degrees of freedom\n",
       "Multiple R-squared:  0.9467,\tAdjusted R-squared:  0.9467 \n",
       "F-statistic: 1.14e+06 on 1 and 64210 DF,  p-value: < 2.2e-16\n"
      ]
     },
     "metadata": {},
     "output_type": "display_data"
    }
   ],
   "source": [
    "m <- lm(log(pi.y+0.00001, base=10) ~ log(pi.x+0.00001, base=10), combined_d)\n",
    "summary(m)"
   ]
  },
  {
   "cell_type": "code",
   "execution_count": 34,
   "metadata": {},
   "outputs": [
    {
     "name": "stderr",
     "output_type": "stream",
     "text": [
      "Loading required package: viridisLite\n"
     ]
    }
   ],
   "source": [
    "library(viridis)"
   ]
  },
  {
   "cell_type": "code",
   "execution_count": 50,
   "metadata": {},
   "outputs": [
    {
     "data": {
      "text/html": [
       "0.99694863489161"
      ],
      "text/latex": [
       "0.99694863489161"
      ],
      "text/markdown": [
       "0.99694863489161"
      ],
      "text/plain": [
       "[1] 0.9969486"
      ]
     },
     "metadata": {},
     "output_type": "display_data"
    }
   ],
   "source": []
  },
  {
   "cell_type": "code",
   "execution_count": 64,
   "metadata": {},
   "outputs": [
    {
     "name": "stderr",
     "output_type": "stream",
     "text": [
      "Warning message:\n",
      "“Removed 25 rows containing non-finite values (stat_binhex).”Warning message:\n",
      "“Removed 25 rows containing non-finite values (stat_smooth).”"
     ]
    },
    {
     "data": {
      "text/html": [
       "<strong>png:</strong> 2"
      ],
      "text/latex": [
       "\\textbf{png:} 2"
      ],
      "text/markdown": [
       "**png:** 2"
      ],
      "text/plain": [
       "png \n",
       "  2 "
      ]
     },
     "metadata": {},
     "output_type": "display_data"
    }
   ],
   "source": [
    "pdf(file = 'figs1_2.pdf')\n",
    "ggplot(data=combined_d, aes(log(pi.x, base = 10), log(pi.y, base= 10)))  + geom_hex() + geom_smooth(method='lm', size=2) + \n",
    "xlab(\"Log(98% read ANI gene nucleotide diversity)\") + \n",
    "    ylab(\"Log(96% read ANI gene nucleotide diversity)\") + scale_fill_viridis(alpha = 0.7) + theme_minimal()\n",
    "dev.off()"
   ]
  },
  {
   "cell_type": "code",
   "execution_count": 6,
   "metadata": {
    "collapsed": true
   },
   "outputs": [],
   "source": []
  },
  {
   "cell_type": "code",
   "execution_count": 1,
   "metadata": {},
   "outputs": [
    {
     "ename": "ERROR",
     "evalue": "Error in cor.test(x = combined_d$pi.y, y = combined_d$pi.x): object 'combined_d' not found\n",
     "output_type": "error",
     "traceback": [
      "Error in cor.test(x = combined_d$pi.y, y = combined_d$pi.x): object 'combined_d' not found\nTraceback:\n",
      "1. cor.test(x = combined_d$pi.y, y = combined_d$pi.x)"
     ]
    }
   ],
   "source": [
    "cor.test(x = combined_d$pi.y, y= combined_d$pi.x)"
   ]
  },
  {
   "cell_type": "code",
   "execution_count": 13,
   "metadata": {
    "collapsed": true
   },
   "outputs": [],
   "source": []
  },
  {
   "cell_type": "code",
   "execution_count": 18,
   "metadata": {},
   "outputs": [
    {
     "data": {
      "text/html": [
       "'0.91'"
      ],
      "text/latex": [
       "'0.91'"
      ],
      "text/markdown": [
       "'0.91'"
      ],
      "text/plain": [
       "[1] \"0.91\""
      ]
     },
     "metadata": {},
     "output_type": "display_data"
    }
   ],
   "source": []
  },
  {
   "cell_type": "code",
   "execution_count": null,
   "metadata": {
    "collapsed": true
   },
   "outputs": [],
   "source": []
  }
 ],
 "metadata": {
  "kernelspec": {
   "display_name": "R",
   "language": "R",
   "name": "ir"
  },
  "language_info": {
   "codemirror_mode": "r",
   "file_extension": ".r",
   "mimetype": "text/x-r-source",
   "name": "R",
   "pygments_lexer": "r",
   "version": "3.6.1"
  }
 },
 "nbformat": 4,
 "nbformat_minor": 2
}
